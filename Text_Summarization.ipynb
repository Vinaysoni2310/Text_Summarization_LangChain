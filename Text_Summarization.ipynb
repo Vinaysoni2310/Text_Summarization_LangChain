{
 "cells": [
  {
   "cell_type": "markdown",
   "id": "b209db95-cd7a-4672-aa52-bd000bf88106",
   "metadata": {},
   "source": [
    "# Text Summarization"
   ]
  },
  {
   "cell_type": "markdown",
   "id": "f3b43e1d-5fc6-4d0c-a679-2ffecc1f69cb",
   "metadata": {},
   "source": [
    "### Imports"
   ]
  },
  {
   "cell_type": "code",
   "execution_count": 162,
   "id": "ce5725c6-afe7-4707-b78f-2c5e99292f9f",
   "metadata": {},
   "outputs": [],
   "source": [
    "from dotenv import find_dotenv, load_dotenv\n",
    "import os\n",
    "import requests\n",
    "import wikipedia"
   ]
  },
  {
   "cell_type": "markdown",
   "id": "1f05e685-1132-42e8-9535-7a59bf37d998",
   "metadata": {},
   "source": [
    "## Solution 1 : Using BART (Bidirectional and Auto-Regressive Transformers)"
   ]
  },
  {
   "cell_type": "markdown",
   "id": "d8ac4f43-a4ad-4fab-a4e0-41ddbdab6d53",
   "metadata": {},
   "source": [
    "**BART (Bidirectional and Auto-Regressive Transformers) is an advanced transformer-based model developed by Facebook AI, renowned for its proficiency in abstractive text summarization. Leveraging bidirectional understanding, it comprehensively interprets and summarizes text by considering context from both ends, resulting in coherent and contextually accurate summaries. Pretrained BART models offer adaptability through fine-tuning for specific summarization tasks, making it a versatile choice not only for summarization.BART model pre-trained on English language, and fine-tuned on CNN Daily Mail.**"
   ]
  },
  {
   "cell_type": "code",
   "execution_count": 163,
   "id": "ea0d2642-f4cd-4813-b6c0-2241a7e4e7d6",
   "metadata": {},
   "outputs": [],
   "source": [
    "# Fetching the API key\n",
    "\n",
    "_=load_dotenv(find_dotenv())\n",
    "HUGGINGFACE_API_KEY = os.getenv(\"HUGGINGFACE_API_KEY\")"
   ]
  },
  {
   "cell_type": "markdown",
   "id": "4227705e-c0d5-4dc5-9b90-136fefb15432",
   "metadata": {},
   "source": [
    "Inferencing the BART model API from Hugging Face"
   ]
  },
  {
   "cell_type": "code",
   "execution_count": 164,
   "id": "7ef7bfa7-1867-4711-b631-8119650f8520",
   "metadata": {},
   "outputs": [],
   "source": [
    "API_URL = \"https://api-inference.huggingface.co/models/facebook/bart-large-cnn\"\n",
    "headers = {\"Authorization\": f\"Bearer {HUGGINGFACE_API_KEY}\"}"
   ]
  },
  {
   "cell_type": "code",
   "execution_count": 165,
   "id": "4763bee4-92e5-4165-a3ff-af509eb3f051",
   "metadata": {},
   "outputs": [],
   "source": [
    "def query(payload):\n",
    "\tresponse = requests.post(API_URL, headers=headers, json=payload)\n",
    "\treturn response.json()"
   ]
  },
  {
   "cell_type": "code",
   "execution_count": 166,
   "id": "c79e392e-c891-4fdf-ad6a-5884ca69dc62",
   "metadata": {},
   "outputs": [],
   "source": [
    "# Set the language for Wikipedia\n",
    "wikipedia.set_lang(\"en\")  # Change to your desired language\n",
    "\n",
    "# Define the Wikipedia page title you want to summarize\n",
    "page_title = \"Salman Khan\"\n",
    "\n",
    "# Fetch the content of the Wikipedia page\n",
    "page_content = wikipedia.page(page_title).content\n"
   ]
  },
  {
   "cell_type": "code",
   "execution_count": 167,
   "id": "9115af77-6a17-4852-8298-fa66d8cebff9",
   "metadata": {},
   "outputs": [
    {
     "data": {
      "text/plain": [
       "'Abdul Rashid Salim Salman Khan (pronounced [səlˈmɑːn xɑːn]; born 27 December 1965) is an Indian actor, film producer, writer and television personality who works predominantly in Hindi films. In a film career spanning over thirty five years, Khan has received numerous awards, including two National Film Awards as a film producer, and two Filmfare Awards as an actor. He is cited in the media as one of the most commercially successful actors of Indian cinema. Forbes has included Khan in listings of the highest-paid celebrities in the world, in 2015 and 2018, with him being the highest-ranked Indian in the latter year.The eldest son of screenwriter Salim Khan, Khan began his acting career with a supporting role in Biwi Ho To Aisi (1988), followed by his breakthrough with a leading role in Sooraj Barjatya\\'s romance Maine Pyar Kiya (1989). He established himself in the 1990s, with several commercially successful films, including Barjatya\\'s family dramas Hum Aapke Hain Koun..! (1994) and Hum Saath-Saath Hain (1999), the action film Karan Arjun (1995) and the comedy Biwi No.1 (1999). After a period of decline in the 2000s, Khan achieved greater stardom in the 2010s by starring in top-grossing action films like Wanted (2009), Dabangg (2010), Ready (2011), Bodyguard (2011), Ek Tha Tiger (2012), Dabangg 2 (2012), Kick (2014), and Tiger Zinda Hai (2017), and dramas such as Bajrangi Bhaijaan (2015) and Sultan (2016). Khan has starred in the highest-grossing Hindi films of 10 years, the highest for any actor.In addition to his acting career, Khan is a television presenter and promotes humanitarian causes through his charity, Being Human Foundation. He has been hosting the reality show Bigg Boss since 2010. Khan\\'s off-screen life is marred by controversy and legal troubles. In 2015, he was convicted of culpable homicide for a negligent driving case in which he ran over five people with his car, killing one, but his conviction was set aside on appeal. On 5 April 2018, Khan was convicted in a blackbuck poaching case and sentenced to five years imprisonment. He is currently out on bail while an appeal is being heard.\\n\\n\\n== Early life and ancestry ==\\nAbdul Rashid Salim Salman Khan is the eldest son of screenwriter Salim Khan and his first wife Sushila Charak, who adopted the name Salma. Born to a Muslim father and Hindu mother on 27 December 1965, Khan was brought up in both faiths. In 1981, when Salim married the actress Helen, the children\\'s relationship with their father grew hostile and only recovered years later.Salman Khan\\'s paternal great-grandparents are believed to be Alakozai Pashtuns from Afghanistan who immigrated to Indore State, Indore Residency (now in Madhya Pradesh), British India in the mid-1800s; however, Jasim Khan in his biography of the actor states that his ancestors belonged to the Akuzai sub-tribe of the Yusufzai Pashtuns from Malakand in the Swat valley of North-West Frontier Province, British India (present-day Khyber Pakhtunkhwa, Pakistan). His grandfather Abdul Rashid Khan was a Deputy Inspector General of the Indore state who was awarded Diler Jung award of the Holkar times. Khan\\'s mother is a homemaker, whose father Baldev Singh Charak, a Dogra Rajput, comes from Jammu in Jammu and Kashmir and whose Marathi mother comes from Maharashtra. Khan can also speak Marathi, in addition to Hindi and English. He has two brothers, Arbaaz Khan and Sohail Khan; and two sisters, Alvira Khan Agnihotri, who is married to actor/director Atul Agnihotri, and an adopted sister Arpita.Salman finished his schooling at St. Stanislaus High School in Bandra, Mumbai, as did his younger brothers Arbaaz and Sohail. Previously, he studied at The Scindia School in Gwalior for a few years along with his younger brother Arbaaz. He attended St. Xavier\\'s College in Mumbai but dropped out.\\n\\n\\n== Career ==\\n\\n\\n=== 1989–93: Debut and breakthrough ===\\nKhan made his acting debut with the 1988 film Biwi Ho To Aisi, which saw him play a supporting role. He played lead role in Sooraj R. Barjatya\\'s romantic family drama Maine Pyar Kiya (1989), which become one of the highest-grossing Indian films at the time. It earned him his first nomination for the Best Actor at Filmfare along with a nomination for Best Male Debut. Maine Pyar Kiya was dubbed in English as When Love Calls, in Spanish as Te Amo, and in Telugu as Prema Paavuraalu.In 1990 one film released starring Khan Baaghi, a box office success, followed by three box office failures in 1991, Patthar Ke Phool, Love and Kurbaan. The same year, Khan went on to co-star with Sanjay Dutt and Madhuri Dixit for the romantic drama Saajan.In 1992, he appeared in Suryavanshi, Jaagruti, Nishchaiy and Ek Ladka Ek Ladki. The year was not a successful year for him as all four films failed at the box office.\\n\\n\\n=== 1994–2008: Hum Aapke Hain Koun..! and other films ===\\nIn 1994, Khan appeared in Rajkumar Santoshi\\'s Andaz Apna Apna, co-starring Aamir Khan. At the time of its release, the film failed at the box office but has gained a cult status over the years. Later in the year he collaborated with director Sooraj Barjatya in the romance Hum Aapke Hain Koun..! co-starring Madhuri Dixit. During the 1995 awards season, the film won 3 Filmfare Awards for Best Film, Best Director and Best Actress. It also won the National Award for being the most popular film of the year. Earning more than ₹2 billion ($63.8 million) worldwide, the film became the biggest Bollywood hit of the year and the highest-grossing Indian film up until then. It is one of the films on Box Office India\\'s list of \"Biggest Blockbusters Ever in Hindi Cinema\". In 2006, it was still the fourth-highest grossing Bollywood film ever, according to Box Office India. In 1995 he starred in Rakesh Roshan\\'s Karan Arjun alongside Shah Rukh Khan. The two played brothers who are reincarnated after being killed by family enemies. His role as Karan earned him a nomination for the 1995 Filmfare Best Actor Award.In 1996, Khan performed in Sanjay Leela Bhansali\\'s directional debut Khamoshi: The Musical. He also appeared in and Raj Kanwar\\'s action hit Jeet. He had two releases in 1997: Judwaa and Auzaar. The former was a comedy directed by David Dhawan where he played a dual role of twins separated at birth.Khan worked in five different films in 1998, his first release being the romantic comedy film Pyaar Kiya To Darna Kya opposite Kajol, one of the biggest commercial successes of that year. This was followed by the moderately successful drama Jab Pyaar Kisise Hota Hai\\u200a where Khan played a young man who has to take a child who claims to be his son, under his custody. Khan\\'s performance in the film earned favourable critical review. He also had an extended cameo in Karan Johar\\'s directorial debut, Kuch Kuch Hota Hai, which earned him critical acclaim and a second Filmfare Award under the Best Supporting Actor category.In 1999, Khan starred in three films: Hum Saath-Saath Hain, Biwi No.1, and Hum Dil De Chuke Sanam alongside Aishwarya Rai and Ajay Devgan, which earned him another Best Actor nomination at the Filmfare awards. His performance in the film was reviewed favourably, with Sharmila Telikum of Rediff noting, \"Salman is endearing. He does tend to ham in the dramatic scenes, but looks very comfortable doing comedy and those romantic scenes.\"In 2001, Khan appeared in Chori Chori Chupke Chupke, which addressed the issue of surrogate childbirth. In it, Khan played the role of a rich industrialist who hires a surrogate mother after his wife becomes infertile. Sukanya Verma of Reddit wrote that the film had an absurd storyline, but also spontaneous performances from the cast, helping to minimise its other flaws. In 2002, he starred in Hum Tumhare Hain Sanam.For Tere Naam (2003), Taran Adarsh said of him, \"Salman Khan is exceptional in a role that fits him to the T. He breathes fire in sequences that demand uneasiness. But beneath the tough exterior lies a vulnerable person and this facet in particular comes to the fore in the latter reels. His emotional outbursts are splendid...\" Director Satish Kaushik considered Khan\\'s work in the film to be strong, saying of it, \"Salman has given a great performance in the film. He\\'s given an intense, unconventional performance. I believe this is the best performance of Salman\\'\\'s career so far.\" His career progressed with comedies like Mujhse Shaadi Karogi (2004) and No Entry (2005).Khan started 2007 with the ensemble film Salaam-e-Ishq. He appeared in the Hollywood movie, Marigold opposite American actress Ali Larter. The film told the love story of an Indian man and an American woman.Khan hosted the second season of the game show 10 Ka Dum during 2009. According to a 2008 report from BizAsia UK, the show earned enough target rating points (TRPs) for Sony Entertainment Television to regain its third position in the Indian television ratings.\\n\\n\\n=== 2009–present: Commercial success ===\\nHe appeared in Wanted, directed by choreographer turned director Prabhu Deva. The film received mixed reviews. Taran Adarsh from Bollywood Hungama rated it 4 of 5 stars noting, \"WANTED rides on Salman Khan\\'s star power. He may not be the best actor in town, but in a film like WANTED, in a role that seems like an extension of his personality, you can\\'t think of anyone else enacting this role with flourish.\" Raja Sen from Rediff gave a rating of 2/5 and said, \"The writing is both amateurish and crass, while the songs are plain hideous...Khan might be having fun, but the fact a film like Wanted underscores is how badly Bollywood needs a breed of younger leading men. And how the existing lot need roles that fit.\"He appeared in two other films that year, Main Aurr Mrs Khanna and London Dreams. Khan\\'s first release of 2010 was Anil Sharma\\'s film Veer.In his next film, Dabangg, Khan played the role of a fearless cop with comic effect in the film. The film was noted by the Economic Times as being remarkable for its commercial success, despite having an \"accent on inanity...\" and \"...complete incoherence in terms of plot and credibility.\" The Times also noted industry experts attributed the popularity of the film to Khan\\'s presence, stating that they \"ascribe its allure to the star charisma of Salman Khan, who has managed to carry off the over-the-top articulation of Chulbul Pandey with unbridled enthusiasm and zeal.\"Dabangg won several awards, including the National Film Award for Best Popular Film Providing Wholesome Entertainment. It was later remade in Tamil and Telugu. The film was produced by his brother Arbaaz Khan. It was reported by the Hindustan Times that the film opened to full houses across the country. Khan received a Star Screen Award for Best Actor and a Stardust Award for Star of the Year – Male for his performance. He was also nominated for his sixth Filmfare Award for Best Actor. Anupama Chopra from NDTV wrote about his performance: \"It\\'s the role of a lifetime and Salman Khan bites into it like a starving man devours a feast. He inhabits it fully, strutting and swaggering and even, spoofing himself.\"Khan\\'s first release of 2011 was Ready. Ready held a record for being the second highest grossing Bollywood film of 2011. He next appeared in Bodyguard, a remake of the 2010 Malayalam film of the same name. The film was not well received by critics, though it became India\\'s highest-earning film of the year.\\nKhan\\'s first release of 2012 was Ek Tha Tiger where he starred opposite Katrina Kaif and acted as an Indian spy. The film garnered positive reactions from critics whilst opening to extremely strong box office collections. The film marks his first association with Yash Raj Films.Khan releases Dabangg 2, the sequel of Dabangg, in 2012 under the production of Arbaaz Khan. Dabangg 2 eventually emerged as a huge financial success with revenues of ₹2.5 billion (US$46.78 million) globally.After a one-year gap, Khan\\'s first release of 2014 was Jai Ho which he starred in opposite Daisy Shah. His second release, Kick, a remake of a Telugu film has entered the Rs. 2 billion club in India on Eid. He also sang the \"Hangover\" song from the movie.Khan\\'s first film of 2015, Bajrangi Bhaijaan, which was released on Eid, received acclaim from critics and the public and broke several box office records upon release. The film, grossing ₹1.84 billion (US$28.68 million) on its first week beat the previous record of PK. This was Khan\\'s first and the second Bollywood film after PK to enter the 300 club. The film is currently the second highest-grossing Bollywood film in India and worldwide with a collection of over 6 billion. Bajrangi Bhaijaan crossed 300 crore within 20 days of its release and became the second highest grosser to date in India, while his second film, Prem Ratan Dhan Payo, a Diwali release received mixed reviews from critics and the public and broke several box office records upon release. The film became the ninth consecutive film of Salman Khan to gross over 1 billion. The film grossed ₹1.73 billion (US$27 million) on its first week. By 25 November, the film collected ₹2.01 billion. With this, khan become the only actor to give three back-to-back movies which collected more than ₹2 billion (US$31.18 million) net domestically. He became the only actor to collect over ₹5 billion (US$77.94 million) domestic net in a single year in India.Khan\\'s first film of 2016, yet again another Eid release, Sultan, directed by Ali Abbas Zafar for Yash Raj Films received positive reviews from both critics and the public breaking several box office records. The film opened on an average of 70% audience occupancy and grossed approximately ₹365 million (US$5.43 million) on its opening day. The film also collected another ₹74.86 (US$1.11) on its first weekend, bringing its total first week collections to an approximate of ₹2.08 billion (US$30.95 million). By the end of its second week, the film had grossed an estimated ₹2.78 billion (US$41.37 million) and later became the second film of Khan to net over 300 crores. As of 9 August, the film grossed ₹5.83 billion (US$86.76 million) worldwide.In June 2017, Khan appeared in Tubelight, his third collaboration with Kabir Khan after Ek Tha Tiger and Bajrangi Bhaijaan. This film also starred Khan\\'s real-life brother Sohail Khan. Despite its high expectations, the film failed to maintain a strong run at the box office. Khan\\'s second release of 2017 Tiger Zinda Hai, a sequel to Ek Tha Tiger grossed ₹190 crore worldwide in its opening weekend. As of 23 January 2018, the film has grossed ₹5.52 billion (US$84.76 million) worldwide, including ₹4.28 billion (US$65.72 million) in India and ₹1.23 billion (US$18.89 million) overseas.Khan starred in Bharat that was released on 5 June 2019 and Dabangg 3 that was released on 20 December 2019. Meanwhile, Kick 2 which was scheduled to release around Christmas 2019 had been delayed. He starred in Radhe which released on 13 May 2021 to negative reviews. His next film, Antim: The Final Truth received mixed reviews from both the critics and audience, alike.\\nHe next did a cameo in Pathaan, reprising his eponymous role as \"Tiger\". He is set to star in Kisi Ka Bhai Kisi Ki Jaan, the remake of Veeram, directed by Farhad Samji.\\n\\n\\n== Filmography ==\\n\\n\\n== Other work ==\\n\\n\\n=== Production ===\\n\\nIn 2011, he launched his own production company called SKBH Productions (Salman Khan Being Human Productions). Money generated from film productions will be donated to the Being Human organisation. The first film made under the banner was the kids\\' entertainer Chillar Party, which went on to win 3 National Awards for Best Children\\'s film, Best Original Screenplay and Child Artist\\'s Award. SKBH Productions next film will be Shikshanachya Aaicha Gho, a remake directed by Mahesh Manjrekar.In 2014, he launched another production house called SKF (Salman Khan Films). The first film released under this banner was the Canadian film Dr. Cabbie. The film earned $350,452 on its opening day at the box office. The next films under this banner were Hero, in which he also sang the title song \"Hero\" by Nikhil Advani, which starred Aditya Pancholi\\'s son Suraj Pancholi and Sunil Shetty\\'s daughter Athiya Shetty; and Bajrangi Bhaijaan by Kabir Khan starring Khan himself with Kareena Kapoor and Nawazuddin Siddiqui.\\n\\n\\n=== Television ===\\nIn 2008 Khan hosted 10 Ka Dum. The show was extremely popular and was at the number one spot in ratings in India. It garnered an average TVR of 2.81 and a peak rating of 4.5, leaving behind Shahrukh Khan\\'s Kya Aap Paanchvi Paas Se Tej hai? with an average rating of 1.37 TVR and a peak rating of 2.3 and Hrithik Roshan\\'s Junoon – Kuch Kar Dikhane Ka on NDTV Imagine with an average TVR of 0.76 and a peak rating of 1.1. According to reports, the show helped Sony TV regain its third position in the Indian television ratings. He again hosted the show in 2009 and thus won the Best Anchor Award for 10 Ka Dum in 2008 and 2009. In 2010 Khan hosted Bigg Boss 4. The show was widely accepted and appreciated due to Khan\\'s hosting and surpassed the famous hosting of Amitabh Bachchan.The Grand Finale episode on 8 January 2011, received a TRP of 6.7, which was the highest among the finales of other Indian reality shows such as Kaun Banega Crorepati, Rahul Dulhaniya Le Jayega, MasterChef and DID –Li\\'l Masters. Due to high TRP Khan again hosted Bigg Boss 5 along with Sanjay Dutt in 2011 and because of huge acceptance he also hosted Bigg Boss 6 and Bigg Boss 7 in 2012 and 2013. In 2013 Khan hosted the Star Guild Award for the first time. Khan also hosted Bigg Boss 8, Bigg Boss 9, Bigg Boss 10, Bigg Boss 11, Bigg Boss 12, Bigg Boss 13, Bigg Boss 14, Bigg Boss 15, Bigg Boss 16.\\n\\n\\n=== Brand endorsements ===\\nKhan was associated as a brand when he had advertised for Campa Cola, Limca Soft drink, Hero Honda bikes and Double Bull shirts well before he entered the film Industry. Even after he became a superstar, he never showed interest in promoting himself as a brand, but he was signed for Thums Up in 2002 and continued until its contract was over. Later Akshay Kumar replaced Khan. Later he was the brand ambassador of the soft drink Mountain Dew with whom he ended the contract in December 2010, and he has once again promoted Thums Up but ended contract soon after. He is now brand ambassador for Pepsi. He has also become the brand ambassador for the travel website, Yatra, which also made him a shareholder. He is also the face of the History Channel and the new brand ambassador for Suzuki motorcycles, Previously he endorsed Red Tape Shoes, and now he is endorsing Relaxo Hawaii. Khan is also the brand ambassador of the detergent brand Wheel. He has also appeared for Chlormint, a brand of gum, with his brother Sohail Khan. The actor has also done a jewellery brand, Sangini with Kareena Kapoor. Apart from innerwear brand Dixcy Scott and tablet BlackBerry Playbook, Britannia\\' s Tiger biscuits is the latest endorsement of Salman. He is also the face of Ranbaxy\\' s Revital, replacing Yuvraj Singh. Apart from these brands, he also has Rotomac Pen and SF Sonic Batteries endorsements. Now Khan has been roped in as the brand ambassador of Dubai-based fashion label Splash, and has been also signed as the brand ambassador for Astral Limited the leading manufacturers of plumbing and drainage systems in the country. Khan is also the brand ambassador of civic body Bombay Municipal Corporation\\'s (BMC) drive against open defecation in Mumbai, and has been also signed by the Security and Surveillance brand, CP PLUS as their CCTV ambassador. Khan is now the second Ambassador along with Amitabh Bachchan for \\'Emami Healthy & Tasty\\', \\'Himani Best Choice\\' and \\'Rasoi\\', apart from \\'Bake Magic\\'.\\n\\n\\n== Philanthropy and service ==\\n\\nKhan has been involved in several charities during his career. He has started an NGO called Being Human which sells T-shirts and other products online and in stores. A portion of the revenues go to a worthy cause supporting the underprivileged. Being Human Foundation is a registered charitable trust set up by Khan to help the underprivileged. In its early days, Khan set up and funded the Foundation using his own money. The Foundation has two focus areas: education and healthcare. To increase the reach and corpus of the Foundation, Salman Khan has undertaken initiatives such as Being Human Art, Being Human merchandise and Being Human Gitanjali Gold Coins.In 2011, he launched his own production company called SKBH Productions (Salman Khan Being Human Productions). Money which will be generated from film productions will be donated to Being Human. The first film made under the banner was the kids\\' entertainer Chillar Party, which went on to win 3 National Awards for Best Children\\'s film, Best Original Screenplay and Child Artist\\'s Award.In January 2012, Khan offered to pay ₹4 million (US$74,853.66) to release about 400 prisoners from about 63 prisons in the state of Uttar Pradesh via his NGO. The prisoners had completed their terms, but due to economic reasons, they were unable to pay legal fines for their charges.In July 2015, Khan offered to donate the profits of his most successful film Bajrangi Bhaijaan to poor farmers all over India. The film\\'s producers Khan and Rockline Venkatesh both have mutually decided to donate the profits of their film to them. The film\\'s director Kabir Khan and Salman\\'s sister Alvira Agnihotri met Maharashtra\\'s Revenue Minister Eknath Khadse to discuss the same.Khan met with his 11-year-old fan from Pakistan, Abdul Basit who had severe jaundice at the time of his birth; he was diagnosed to have Crigler Najjar Syndrome and was admitted to the Apollo Hospital, Delhi. The youngster wished to meet the \"Bajrangi Bhaijaan\" star Khan.Salman was one of the nine personalities invited by India\\'s Prime Minister Narendra Modi to promote the message of cleanliness and Swachh Bharat Abhiyan when it was launched on 2 October 2014. In 2016, he agreed to campaign for cleanliness and eradicating open defecation for the Brihan Mumbai Municipal Corporation. His efforts to clean the streets of Karjat, a small town near Mumbai were appreciated by the Prime Minister in a tweet.\\n\\n\\n== Personal life ==\\nKhan resides in Galaxy Apartments, Bandra, Mumbai. He also has a 150-acre plot in Panvel which has 3 bungalows, a swimming pool and a gym. He is a fitness enthusiast and maintains a strict regimen.Khan has never married. In 1999, he began dating Bollywood actress Aishwarya Rai; their relationship was often reported in the media until the couple separated in 2001. Khan started dating actress Katrina Kaif. After years of speculations, Kaif admitted in an interview in 2011 that she had been in a serious relationship with Khan for several years, but it ended in 2010. Sangeeta Bijlani and Somy Ali were also in serious relationships with Khan.Since 2012, Khan is in a relationship with Romanian actress Iulia Vântur.In August 2011, Khan admitted that he suffers from trigeminal neuralgia, a facial nerve disorder commonly known as the \"suicide disease\". The disorder occurs due to the inflammation of trigeminal nerve in the face. In an interview, he said that he has been quietly suffering from it for the past seven years, but now the pain has become unbearable. He said that it has even affected his voice, making it much harsher.Khan identifies as both Muslim and Hindu, commenting that, \"I\\'m Hindu and Muslim both. I\\'m Bharatiya (an Indian)\". He explained, \"My father is Muslim and my mother is Hindu\".\\n\\n\\n== In the media ==\\nIn 2004 Khan was ranked as the 7th Best looking man in the world by People Magazine of the USA. In 2008 his lifelike wax statue was installed in London\\'s Madame Tussauds Museum; likewise, in 2012 another wax statue of him was installed in Madame Tussauds New York Museum. In 2010 People Magazine, India declared him the Sexiest Man Alive. In 2011, 2012 and 2013 he was declared the Times of India\\'s Most Desirable Man in 2nd, 1st and 3rd place respectively. In August 2013 he was declared India\\'s Most Searched Celebrity Online. Khan topped the Forbes India charts for 2014, in terms of both fame and revenues. According to the Forbes 2015 list \\'Celebrity 100 : The World\\'s Top-Paid Entertainers 2015\\', Khan was the highest ranked Indian in the 71st rank with earnings of $33.5 million.Khan was ranked seventh in Forbes\\'s first global list of highest-paid actors in the world, with earnings of US$33.5 million, which placed him higher than such Hollywood actors as Johnny Depp, Brad Pitt, Leonardo DiCaprio and Dwayne The Rock Johnson. In 2015, he was ranked ahead of US President Barack Obama in the list of The Most Admired Personalities of India. In September 2015, the International Business Times declared him \"The Most Attractive Personality\" in India. He also became the only actor to collect over ₹5 billion (US$77.94 million) domestic net in a single year in India. Khan was ranked the second \"Most Googled Indian of 2015\" and first among Bollywood actors. On 24 April 2016 the Indian Olympic Association appointed the actor as the Indian Olympic contingent\\'s goodwill ambassador for the 2016 Summer Olympics. In August 2017, he was identified as the ninth highest-paid actor in the world, and the first place highest-paid in India according to Forbes India.\\n\\n\\n== Controversies ==\\n\\n\\n=== Hit-and-run case ===\\nOn 28 September 2002, Khan was arrested for rash and negligent driving after his car ran into a bakery in Mumbai; one person who was sleeping on the pavement outside the bakery died and three others were injured in the accident. Charges of culpable homicide were laid against him, but later dropped. On 24 July 2013, he was formally charged with culpable homicide in the case, to which he pleaded not guilty.On 6 May 2015, Khan was found guilty of all charges in the case. The Bombay Sessions Court concluded that Khan was driving the car under the influence of alcohol, causing the death of one and serious injury to four homeless persons. An RTO officer confirmed that Khan did not have a driving license until 2004. Sessions Judge DW Deshpande convicted the actor for culpable homicide not amounting to murder and sentenced him to five years in prison. Later in the same day, Khan, being represented by Senior Counsel Amit Desai was granted bail by the Bombay High Court till 8 May 2015, on which the court suspended his prison sentence until the final appeal hearing in July. His driver Ashok Singh, who had given the testimony that it was himself who was driving the car at the time of accident, was charged with perjury for misguiding the Court with false testimony and was arrested. The prime witness, police constable Ravindra Patil went missing multiple times and eventually died in a hospital due to tuberculosis. In December 2015, Khan was acquitted of all charges from this case due to lack of evidence. The Supreme Court on Tuesday 5 July 2016 admitted a plea by the Maharashtra government that challenged the acquittal of Salman Khan in this hit-and-run case by the Bombay High Court. The court refused to fast-track the case.\\n\\n\\n=== Relationship with Aishwarya Rai ===\\nHis relationship with actress Aishwarya Rai was a well publicised topic in the Indian media. After their break-up in March 2002, Rai accused him of harassing her. She claimed that Khan had not been able to come to terms with their break-up and was hounding her; her parents lodged a complaint against him. In 2005, news outlets released what was said to be an illicit copy of a mobile phone call recorded in 2001 by the Mumbai police. It appeared to be a call in which he threatened Rai, in an effort to force her to appear at social events held by Mumbai crime figures. The call featured boasts of connections to organised crime and derogatory comments about other actors. However, the alleged tape was tested in the government\\'s Forensic lab in Chandigarh, which concluded that it was fake.\\n\\n\\n=== Blackbuck hunting and Arms Act violations cases ===\\nThe case involves the alleged killing of a deer when Khan and his co-stars – Saif Ali Khan, Sonali Bendre, Neelam and Tabu – were filming the movie Hum Saath-Saath Hain in the forests near Jodhpur in 1998. In 2007, Salman spent a week in Jodhpur jail before the court granted him bail. In addition to the accusations of poaching of endangered antelopes under the Wildlife (Protection) Act, a case under sections 3/25 and 3/27 of the Arms Act was filed against Khan for allegedly keeping and using firearms with an expired licence.On 17 February 2006, Khan was sentenced to one year in prison for hunting Chinkara, an endangered species. The sentence was stayed by a higher court on appeal.On 10 April 2006, Khan was handed a five-year jail term and remanded to Jodhpur jail until 13 April when he was granted bail. On 24 July 2012, Rajasthan High Court finalised charges against Khan and his other colleagues in the endangered blackbuck killing case, paving way for the start of the trial. On 9 July 2014, the Supreme Court issued a notice to Khan on Rajasthan government\\'s plea challenging the High Court order suspending his conviction. Khan was acquitted in the blackbuck and chinkara poaching cases by the Rajasthan High Court on 24 July 2016.On 18 October 2016 the Rajasthan Government decided to approach the Supreme Court to challenge Khan\\'s acquittal in two related cases.On 18 January 2017 Khan was acquitted by a Jodhpur court in an Arms Act case linked to the killing of a blackbuck in Rajasthan. Khan pleaded \"not guilty\" to charges of violating the law by keeping unlicensed weapons and using them. Acquitting the actor, the court said that the prosecution failed to submit enough evidence against him.On 5 April 2018, Jodhpur court convicted Khan in the blackbuck poaching case and sentenced him to five years imprisonment while acquitting Saif Ali Khan, Sonali Bendre, Neelam, and Tabu.Khan was released on bail on 7 April 2018, pending appeal.\\n\\n\\n=== Remarks about 26/11 attacks ===\\nIn September 2010, Khan was reported to have claimed during an interview on a Pakistani channel that the 26/11 attacks got a lot of attention because the \"elite\" were targeted. During the interview the actor had said: \"It was the elite that was targeted this time. Five star hotels and stuff. So they panicked. Then they got up and spoke about it. My question is \"why not before?\" Attacks have happened in trains and small towns too, but no one talked about it so much.\" Khan also said that Pakistan was not to be blamed for it, and that the Indian security had failed. Khan\\'s comments had drawn strong reactions from Deputy Chief Minister of Maharashtra Chagan Bhujbal, Shiv Sena, BJP and other political parties. The comments were also condemned by Ujwal Nikam, Special Prosecutor in the 26/11 trial. Khan later apologised for his comments.\\n\\n\\n=== Tweets on Yakub Memon ===\\nOn 25 July 2015, Khan made a number of tweets from his Twitter account in support of the 1993 Bombay bombings accused Yakub Memon. Memon was scheduled to be executed, before which Khan made his tweets. Khan said that Yakub\\'s brother, Tiger Memon should be hanged instead. He also asked the Prime Minister of Pakistan, Nawaz Sharif to confirm \"whether the mob boss is in his country.\" The tweets sparked protests outside his house where police had to be deployed and was criticised in the social media and by his father, Salim Khan. Following these incidents, Khan withdrew his tweets and apologised.\\n\\n\\n== Accolades ==\\n\\nKhan won numerous awards including two National Film Awards and two Filmfare Awards.\\n\\n\\n== Discography ==\\nKhan has sung the following Hindi songs for Bollywood films:\\n\\n\\n== See also ==\\n100 Crore Club\\nKhans of Bollywood\\nList of Bollywood actors\\nList of Indian film actors\\n\\n\\n== References ==\\n\\n\\n== Bibliography ==\\n\\n\\n== External links ==\\nSalman Khan at IMDb \\nSalman Khan on Facebook\\nSalman Khan at Bollywood Hungama \\nSalman Khan at Rotten Tomatoes'"
      ]
     },
     "metadata": {},
     "output_type": "display_data"
    }
   ],
   "source": [
    "# Wikipedia Page Content\n",
    "\n",
    "display(page_content)"
   ]
  },
  {
   "cell_type": "code",
   "execution_count": 168,
   "id": "41a832c8-d28a-4ee8-9e66-8b362450d19a",
   "metadata": {},
   "outputs": [],
   "source": [
    "output = query({\n",
    "\t\"inputs\": page_content,\n",
    "    \"parameters\": {\"min_length\": 100, \"max_length\":500}\n",
    "})"
   ]
  },
  {
   "cell_type": "markdown",
   "id": "293893f7-101f-46ec-9661-7b94b6dfdbc4",
   "metadata": {},
   "source": [
    "### Final Output - BART"
   ]
  },
  {
   "cell_type": "code",
   "execution_count": 169,
   "id": "038a0025-5c36-4b92-a465-669ae8da819a",
   "metadata": {},
   "outputs": [
    {
     "name": "stdout",
     "output_type": "stream",
     "text": [
      "Abdul Rashid Salim Salman Khan is an Indian actor, film producer, writer and television personality who works predominantly in Hindi films. He is cited in the media as one of the most commercially successful actors of Indian cinema. In a film career spanning over thirty five years, Khan has received numerous awards, including two National Film Awards as a film producer and two Filmfare Awards as an actor. He has starred in the highest-grossing Hindi films of 10 years, the highest for any actor. In 2015, he was convicted of culpable homicide for a negligent driving case in which he ran over five people with his car, killing one. On 5 April 2018, Khan was convicted in a blackbuck poaching case and sentenced to five years imprisonment.\n"
     ]
    }
   ],
   "source": [
    "summary = output[0]['summary_text']\n",
    "print(summary)"
   ]
  },
  {
   "cell_type": "markdown",
   "id": "76276c98-9623-40bd-beeb-95ed69567277",
   "metadata": {},
   "source": [
    " "
   ]
  },
  {
   "cell_type": "markdown",
   "id": "042a9694-e3f3-430f-912d-c8b3769e1010",
   "metadata": {},
   "source": [
    "## Solution 2 : Using Prompt Engineering/LLMs "
   ]
  },
  {
   "cell_type": "markdown",
   "id": "9a54b5e3-fd59-49e4-9b60-628f10e8add6",
   "metadata": {},
   "source": [
    "**LangChain is an open-source framework designed to simplify the creation of applications using large language models (LLMs).\n",
    "LangChain follows a general pipeline where a user asks a question to the language model where the vector representation of the question is used to do a similarity search in the vector database and the relevant information is fetched from the vector database and the response is later fed to the language model. further, the language model generates an answer or takes an action.**"
   ]
  },
  {
   "cell_type": "code",
   "execution_count": 170,
   "id": "5879a479-074f-47c4-9eb7-561a03cd2b8c",
   "metadata": {},
   "outputs": [],
   "source": [
    "from langchain.chat_models import ChatOpenAI\n",
    "from langchain.text_splitter import CharacterTextSplitter\n",
    "from langchain.chains.summarize import load_summarize_chain\n",
    "import textwrap\n",
    "import wikipedia"
   ]
  },
  {
   "cell_type": "code",
   "execution_count": 171,
   "id": "fc922283-edf7-42fa-90d2-1467eb803cd7",
   "metadata": {},
   "outputs": [],
   "source": [
    "# Set the language for Wikipedia\n",
    "wikipedia.set_lang(\"en\")  # Change to your desired language\n",
    "\n",
    "# Define the Wikipedia page title you want to summarize\n",
    "page_title = \"Salman Khan\"\n",
    "\n",
    "# Fetch the content of the Wikipedia page\n",
    "page_content = wikipedia.page(page_title).content\n"
   ]
  },
  {
   "cell_type": "code",
   "execution_count": 172,
   "id": "f42a3dc3-c021-4111-8263-73801be60d14",
   "metadata": {},
   "outputs": [
    {
     "data": {
      "text/plain": [
       "'Abdul Rashid Salim Salman Khan (pronounced [səlˈmɑːn xɑːn]; born 27 December 1965) is an Indian actor, film producer, writer and television personality who works predominantly in Hindi films. In a film career spanning over thirty five years, Khan has received numerous awards, including two National Film Awards as a film producer, and two Filmfare Awards as an actor. He is cited in the media as one of the most commercially successful actors of Indian cinema. Forbes has included Khan in listings of the highest-paid celebrities in the world, in 2015 and 2018, with him being the highest-ranked Indian in the latter year.The eldest son of screenwriter Salim Khan, Khan began his acting career with a supporting role in Biwi Ho To Aisi (1988), followed by his breakthrough with a leading role in Sooraj Barjatya\\'s romance Maine Pyar Kiya (1989). He established himself in the 1990s, with several commercially successful films, including Barjatya\\'s family dramas Hum Aapke Hain Koun..! (1994) and Hum Saath-Saath Hain (1999), the action film Karan Arjun (1995) and the comedy Biwi No.1 (1999). After a period of decline in the 2000s, Khan achieved greater stardom in the 2010s by starring in top-grossing action films like Wanted (2009), Dabangg (2010), Ready (2011), Bodyguard (2011), Ek Tha Tiger (2012), Dabangg 2 (2012), Kick (2014), and Tiger Zinda Hai (2017), and dramas such as Bajrangi Bhaijaan (2015) and Sultan (2016). Khan has starred in the highest-grossing Hindi films of 10 years, the highest for any actor.In addition to his acting career, Khan is a television presenter and promotes humanitarian causes through his charity, Being Human Foundation. He has been hosting the reality show Bigg Boss since 2010. Khan\\'s off-screen life is marred by controversy and legal troubles. In 2015, he was convicted of culpable homicide for a negligent driving case in which he ran over five people with his car, killing one, but his conviction was set aside on appeal. On 5 April 2018, Khan was convicted in a blackbuck poaching case and sentenced to five years imprisonment. He is currently out on bail while an appeal is being heard.\\n\\n\\n== Early life and ancestry ==\\nAbdul Rashid Salim Salman Khan is the eldest son of screenwriter Salim Khan and his first wife Sushila Charak, who adopted the name Salma. Born to a Muslim father and Hindu mother on 27 December 1965, Khan was brought up in both faiths. In 1981, when Salim married the actress Helen, the children\\'s relationship with their father grew hostile and only recovered years later.Salman Khan\\'s paternal great-grandparents are believed to be Alakozai Pashtuns from Afghanistan who immigrated to Indore State, Indore Residency (now in Madhya Pradesh), British India in the mid-1800s; however, Jasim Khan in his biography of the actor states that his ancestors belonged to the Akuzai sub-tribe of the Yusufzai Pashtuns from Malakand in the Swat valley of North-West Frontier Province, British India (present-day Khyber Pakhtunkhwa, Pakistan). His grandfather Abdul Rashid Khan was a Deputy Inspector General of the Indore state who was awarded Diler Jung award of the Holkar times. Khan\\'s mother is a homemaker, whose father Baldev Singh Charak, a Dogra Rajput, comes from Jammu in Jammu and Kashmir and whose Marathi mother comes from Maharashtra. Khan can also speak Marathi, in addition to Hindi and English. He has two brothers, Arbaaz Khan and Sohail Khan; and two sisters, Alvira Khan Agnihotri, who is married to actor/director Atul Agnihotri, and an adopted sister Arpita.Salman finished his schooling at St. Stanislaus High School in Bandra, Mumbai, as did his younger brothers Arbaaz and Sohail. Previously, he studied at The Scindia School in Gwalior for a few years along with his younger brother Arbaaz. He attended St. Xavier\\'s College in Mumbai but dropped out.\\n\\n\\n== Career ==\\n\\n\\n=== 1989–93: Debut and breakthrough ===\\nKhan made his acting debut with the 1988 film Biwi Ho To Aisi, which saw him play a supporting role. He played lead role in Sooraj R. Barjatya\\'s romantic family drama Maine Pyar Kiya (1989), which become one of the highest-grossing Indian films at the time. It earned him his first nomination for the Best Actor at Filmfare along with a nomination for Best Male Debut. Maine Pyar Kiya was dubbed in English as When Love Calls, in Spanish as Te Amo, and in Telugu as Prema Paavuraalu.In 1990 one film released starring Khan Baaghi, a box office success, followed by three box office failures in 1991, Patthar Ke Phool, Love and Kurbaan. The same year, Khan went on to co-star with Sanjay Dutt and Madhuri Dixit for the romantic drama Saajan.In 1992, he appeared in Suryavanshi, Jaagruti, Nishchaiy and Ek Ladka Ek Ladki. The year was not a successful year for him as all four films failed at the box office.\\n\\n\\n=== 1994–2008: Hum Aapke Hain Koun..! and other films ===\\nIn 1994, Khan appeared in Rajkumar Santoshi\\'s Andaz Apna Apna, co-starring Aamir Khan. At the time of its release, the film failed at the box office but has gained a cult status over the years. Later in the year he collaborated with director Sooraj Barjatya in the romance Hum Aapke Hain Koun..! co-starring Madhuri Dixit. During the 1995 awards season, the film won 3 Filmfare Awards for Best Film, Best Director and Best Actress. It also won the National Award for being the most popular film of the year. Earning more than ₹2 billion ($63.8 million) worldwide, the film became the biggest Bollywood hit of the year and the highest-grossing Indian film up until then. It is one of the films on Box Office India\\'s list of \"Biggest Blockbusters Ever in Hindi Cinema\". In 2006, it was still the fourth-highest grossing Bollywood film ever, according to Box Office India. In 1995 he starred in Rakesh Roshan\\'s Karan Arjun alongside Shah Rukh Khan. The two played brothers who are reincarnated after being killed by family enemies. His role as Karan earned him a nomination for the 1995 Filmfare Best Actor Award.In 1996, Khan performed in Sanjay Leela Bhansali\\'s directional debut Khamoshi: The Musical. He also appeared in and Raj Kanwar\\'s action hit Jeet. He had two releases in 1997: Judwaa and Auzaar. The former was a comedy directed by David Dhawan where he played a dual role of twins separated at birth.Khan worked in five different films in 1998, his first release being the romantic comedy film Pyaar Kiya To Darna Kya opposite Kajol, one of the biggest commercial successes of that year. This was followed by the moderately successful drama Jab Pyaar Kisise Hota Hai\\u200a where Khan played a young man who has to take a child who claims to be his son, under his custody. Khan\\'s performance in the film earned favourable critical review. He also had an extended cameo in Karan Johar\\'s directorial debut, Kuch Kuch Hota Hai, which earned him critical acclaim and a second Filmfare Award under the Best Supporting Actor category.In 1999, Khan starred in three films: Hum Saath-Saath Hain, Biwi No.1, and Hum Dil De Chuke Sanam alongside Aishwarya Rai and Ajay Devgan, which earned him another Best Actor nomination at the Filmfare awards. His performance in the film was reviewed favourably, with Sharmila Telikum of Rediff noting, \"Salman is endearing. He does tend to ham in the dramatic scenes, but looks very comfortable doing comedy and those romantic scenes.\"In 2001, Khan appeared in Chori Chori Chupke Chupke, which addressed the issue of surrogate childbirth. In it, Khan played the role of a rich industrialist who hires a surrogate mother after his wife becomes infertile. Sukanya Verma of Reddit wrote that the film had an absurd storyline, but also spontaneous performances from the cast, helping to minimise its other flaws. In 2002, he starred in Hum Tumhare Hain Sanam.For Tere Naam (2003), Taran Adarsh said of him, \"Salman Khan is exceptional in a role that fits him to the T. He breathes fire in sequences that demand uneasiness. But beneath the tough exterior lies a vulnerable person and this facet in particular comes to the fore in the latter reels. His emotional outbursts are splendid...\" Director Satish Kaushik considered Khan\\'s work in the film to be strong, saying of it, \"Salman has given a great performance in the film. He\\'s given an intense, unconventional performance. I believe this is the best performance of Salman\\'\\'s career so far.\" His career progressed with comedies like Mujhse Shaadi Karogi (2004) and No Entry (2005).Khan started 2007 with the ensemble film Salaam-e-Ishq. He appeared in the Hollywood movie, Marigold opposite American actress Ali Larter. The film told the love story of an Indian man and an American woman.Khan hosted the second season of the game show 10 Ka Dum during 2009. According to a 2008 report from BizAsia UK, the show earned enough target rating points (TRPs) for Sony Entertainment Television to regain its third position in the Indian television ratings.\\n\\n\\n=== 2009–present: Commercial success ===\\nHe appeared in Wanted, directed by choreographer turned director Prabhu Deva. The film received mixed reviews. Taran Adarsh from Bollywood Hungama rated it 4 of 5 stars noting, \"WANTED rides on Salman Khan\\'s star power. He may not be the best actor in town, but in a film like WANTED, in a role that seems like an extension of his personality, you can\\'t think of anyone else enacting this role with flourish.\" Raja Sen from Rediff gave a rating of 2/5 and said, \"The writing is both amateurish and crass, while the songs are plain hideous...Khan might be having fun, but the fact a film like Wanted underscores is how badly Bollywood needs a breed of younger leading men. And how the existing lot need roles that fit.\"He appeared in two other films that year, Main Aurr Mrs Khanna and London Dreams. Khan\\'s first release of 2010 was Anil Sharma\\'s film Veer.In his next film, Dabangg, Khan played the role of a fearless cop with comic effect in the film. The film was noted by the Economic Times as being remarkable for its commercial success, despite having an \"accent on inanity...\" and \"...complete incoherence in terms of plot and credibility.\" The Times also noted industry experts attributed the popularity of the film to Khan\\'s presence, stating that they \"ascribe its allure to the star charisma of Salman Khan, who has managed to carry off the over-the-top articulation of Chulbul Pandey with unbridled enthusiasm and zeal.\"Dabangg won several awards, including the National Film Award for Best Popular Film Providing Wholesome Entertainment. It was later remade in Tamil and Telugu. The film was produced by his brother Arbaaz Khan. It was reported by the Hindustan Times that the film opened to full houses across the country. Khan received a Star Screen Award for Best Actor and a Stardust Award for Star of the Year – Male for his performance. He was also nominated for his sixth Filmfare Award for Best Actor. Anupama Chopra from NDTV wrote about his performance: \"It\\'s the role of a lifetime and Salman Khan bites into it like a starving man devours a feast. He inhabits it fully, strutting and swaggering and even, spoofing himself.\"Khan\\'s first release of 2011 was Ready. Ready held a record for being the second highest grossing Bollywood film of 2011. He next appeared in Bodyguard, a remake of the 2010 Malayalam film of the same name. The film was not well received by critics, though it became India\\'s highest-earning film of the year.\\nKhan\\'s first release of 2012 was Ek Tha Tiger where he starred opposite Katrina Kaif and acted as an Indian spy. The film garnered positive reactions from critics whilst opening to extremely strong box office collections. The film marks his first association with Yash Raj Films.Khan releases Dabangg 2, the sequel of Dabangg, in 2012 under the production of Arbaaz Khan. Dabangg 2 eventually emerged as a huge financial success with revenues of ₹2.5 billion (US$46.78 million) globally.After a one-year gap, Khan\\'s first release of 2014 was Jai Ho which he starred in opposite Daisy Shah. His second release, Kick, a remake of a Telugu film has entered the Rs. 2 billion club in India on Eid. He also sang the \"Hangover\" song from the movie.Khan\\'s first film of 2015, Bajrangi Bhaijaan, which was released on Eid, received acclaim from critics and the public and broke several box office records upon release. The film, grossing ₹1.84 billion (US$28.68 million) on its first week beat the previous record of PK. This was Khan\\'s first and the second Bollywood film after PK to enter the 300 club. The film is currently the second highest-grossing Bollywood film in India and worldwide with a collection of over 6 billion. Bajrangi Bhaijaan crossed 300 crore within 20 days of its release and became the second highest grosser to date in India, while his second film, Prem Ratan Dhan Payo, a Diwali release received mixed reviews from critics and the public and broke several box office records upon release. The film became the ninth consecutive film of Salman Khan to gross over 1 billion. The film grossed ₹1.73 billion (US$27 million) on its first week. By 25 November, the film collected ₹2.01 billion. With this, khan become the only actor to give three back-to-back movies which collected more than ₹2 billion (US$31.18 million) net domestically. He became the only actor to collect over ₹5 billion (US$77.94 million) domestic net in a single year in India.Khan\\'s first film of 2016, yet again another Eid release, Sultan, directed by Ali Abbas Zafar for Yash Raj Films received positive reviews from both critics and the public breaking several box office records. The film opened on an average of 70% audience occupancy and grossed approximately ₹365 million (US$5.43 million) on its opening day. The film also collected another ₹74.86 (US$1.11) on its first weekend, bringing its total first week collections to an approximate of ₹2.08 billion (US$30.95 million). By the end of its second week, the film had grossed an estimated ₹2.78 billion (US$41.37 million) and later became the second film of Khan to net over 300 crores. As of 9 August, the film grossed ₹5.83 billion (US$86.76 million) worldwide.In June 2017, Khan appeared in Tubelight, his third collaboration with Kabir Khan after Ek Tha Tiger and Bajrangi Bhaijaan. This film also starred Khan\\'s real-life brother Sohail Khan. Despite its high expectations, the film failed to maintain a strong run at the box office. Khan\\'s second release of 2017 Tiger Zinda Hai, a sequel to Ek Tha Tiger grossed ₹190 crore worldwide in its opening weekend. As of 23 January 2018, the film has grossed ₹5.52 billion (US$84.76 million) worldwide, including ₹4.28 billion (US$65.72 million) in India and ₹1.23 billion (US$18.89 million) overseas.Khan starred in Bharat that was released on 5 June 2019 and Dabangg 3 that was released on 20 December 2019. Meanwhile, Kick 2 which was scheduled to release around Christmas 2019 had been delayed. He starred in Radhe which released on 13 May 2021 to negative reviews. His next film, Antim: The Final Truth received mixed reviews from both the critics and audience, alike.\\nHe next did a cameo in Pathaan, reprising his eponymous role as \"Tiger\". He is set to star in Kisi Ka Bhai Kisi Ki Jaan, the remake of Veeram, directed by Farhad Samji.\\n\\n\\n== Filmography ==\\n\\n\\n== Other work ==\\n\\n\\n=== Production ===\\n\\nIn 2011, he launched his own production company called SKBH Productions (Salman Khan Being Human Productions). Money generated from film productions will be donated to the Being Human organisation. The first film made under the banner was the kids\\' entertainer Chillar Party, which went on to win 3 National Awards for Best Children\\'s film, Best Original Screenplay and Child Artist\\'s Award. SKBH Productions next film will be Shikshanachya Aaicha Gho, a remake directed by Mahesh Manjrekar.In 2014, he launched another production house called SKF (Salman Khan Films). The first film released under this banner was the Canadian film Dr. Cabbie. The film earned $350,452 on its opening day at the box office. The next films under this banner were Hero, in which he also sang the title song \"Hero\" by Nikhil Advani, which starred Aditya Pancholi\\'s son Suraj Pancholi and Sunil Shetty\\'s daughter Athiya Shetty; and Bajrangi Bhaijaan by Kabir Khan starring Khan himself with Kareena Kapoor and Nawazuddin Siddiqui.\\n\\n\\n=== Television ===\\nIn 2008 Khan hosted 10 Ka Dum. The show was extremely popular and was at the number one spot in ratings in India. It garnered an average TVR of 2.81 and a peak rating of 4.5, leaving behind Shahrukh Khan\\'s Kya Aap Paanchvi Paas Se Tej hai? with an average rating of 1.37 TVR and a peak rating of 2.3 and Hrithik Roshan\\'s Junoon – Kuch Kar Dikhane Ka on NDTV Imagine with an average TVR of 0.76 and a peak rating of 1.1. According to reports, the show helped Sony TV regain its third position in the Indian television ratings. He again hosted the show in 2009 and thus won the Best Anchor Award for 10 Ka Dum in 2008 and 2009. In 2010 Khan hosted Bigg Boss 4. The show was widely accepted and appreciated due to Khan\\'s hosting and surpassed the famous hosting of Amitabh Bachchan.The Grand Finale episode on 8 January 2011, received a TRP of 6.7, which was the highest among the finales of other Indian reality shows such as Kaun Banega Crorepati, Rahul Dulhaniya Le Jayega, MasterChef and DID –Li\\'l Masters. Due to high TRP Khan again hosted Bigg Boss 5 along with Sanjay Dutt in 2011 and because of huge acceptance he also hosted Bigg Boss 6 and Bigg Boss 7 in 2012 and 2013. In 2013 Khan hosted the Star Guild Award for the first time. Khan also hosted Bigg Boss 8, Bigg Boss 9, Bigg Boss 10, Bigg Boss 11, Bigg Boss 12, Bigg Boss 13, Bigg Boss 14, Bigg Boss 15, Bigg Boss 16.\\n\\n\\n=== Brand endorsements ===\\nKhan was associated as a brand when he had advertised for Campa Cola, Limca Soft drink, Hero Honda bikes and Double Bull shirts well before he entered the film Industry. Even after he became a superstar, he never showed interest in promoting himself as a brand, but he was signed for Thums Up in 2002 and continued until its contract was over. Later Akshay Kumar replaced Khan. Later he was the brand ambassador of the soft drink Mountain Dew with whom he ended the contract in December 2010, and he has once again promoted Thums Up but ended contract soon after. He is now brand ambassador for Pepsi. He has also become the brand ambassador for the travel website, Yatra, which also made him a shareholder. He is also the face of the History Channel and the new brand ambassador for Suzuki motorcycles, Previously he endorsed Red Tape Shoes, and now he is endorsing Relaxo Hawaii. Khan is also the brand ambassador of the detergent brand Wheel. He has also appeared for Chlormint, a brand of gum, with his brother Sohail Khan. The actor has also done a jewellery brand, Sangini with Kareena Kapoor. Apart from innerwear brand Dixcy Scott and tablet BlackBerry Playbook, Britannia\\' s Tiger biscuits is the latest endorsement of Salman. He is also the face of Ranbaxy\\' s Revital, replacing Yuvraj Singh. Apart from these brands, he also has Rotomac Pen and SF Sonic Batteries endorsements. Now Khan has been roped in as the brand ambassador of Dubai-based fashion label Splash, and has been also signed as the brand ambassador for Astral Limited the leading manufacturers of plumbing and drainage systems in the country. Khan is also the brand ambassador of civic body Bombay Municipal Corporation\\'s (BMC) drive against open defecation in Mumbai, and has been also signed by the Security and Surveillance brand, CP PLUS as their CCTV ambassador. Khan is now the second Ambassador along with Amitabh Bachchan for \\'Emami Healthy & Tasty\\', \\'Himani Best Choice\\' and \\'Rasoi\\', apart from \\'Bake Magic\\'.\\n\\n\\n== Philanthropy and service ==\\n\\nKhan has been involved in several charities during his career. He has started an NGO called Being Human which sells T-shirts and other products online and in stores. A portion of the revenues go to a worthy cause supporting the underprivileged. Being Human Foundation is a registered charitable trust set up by Khan to help the underprivileged. In its early days, Khan set up and funded the Foundation using his own money. The Foundation has two focus areas: education and healthcare. To increase the reach and corpus of the Foundation, Salman Khan has undertaken initiatives such as Being Human Art, Being Human merchandise and Being Human Gitanjali Gold Coins.In 2011, he launched his own production company called SKBH Productions (Salman Khan Being Human Productions). Money which will be generated from film productions will be donated to Being Human. The first film made under the banner was the kids\\' entertainer Chillar Party, which went on to win 3 National Awards for Best Children\\'s film, Best Original Screenplay and Child Artist\\'s Award.In January 2012, Khan offered to pay ₹4 million (US$74,853.66) to release about 400 prisoners from about 63 prisons in the state of Uttar Pradesh via his NGO. The prisoners had completed their terms, but due to economic reasons, they were unable to pay legal fines for their charges.In July 2015, Khan offered to donate the profits of his most successful film Bajrangi Bhaijaan to poor farmers all over India. The film\\'s producers Khan and Rockline Venkatesh both have mutually decided to donate the profits of their film to them. The film\\'s director Kabir Khan and Salman\\'s sister Alvira Agnihotri met Maharashtra\\'s Revenue Minister Eknath Khadse to discuss the same.Khan met with his 11-year-old fan from Pakistan, Abdul Basit who had severe jaundice at the time of his birth; he was diagnosed to have Crigler Najjar Syndrome and was admitted to the Apollo Hospital, Delhi. The youngster wished to meet the \"Bajrangi Bhaijaan\" star Khan.Salman was one of the nine personalities invited by India\\'s Prime Minister Narendra Modi to promote the message of cleanliness and Swachh Bharat Abhiyan when it was launched on 2 October 2014. In 2016, he agreed to campaign for cleanliness and eradicating open defecation for the Brihan Mumbai Municipal Corporation. His efforts to clean the streets of Karjat, a small town near Mumbai were appreciated by the Prime Minister in a tweet.\\n\\n\\n== Personal life ==\\nKhan resides in Galaxy Apartments, Bandra, Mumbai. He also has a 150-acre plot in Panvel which has 3 bungalows, a swimming pool and a gym. He is a fitness enthusiast and maintains a strict regimen.Khan has never married. In 1999, he began dating Bollywood actress Aishwarya Rai; their relationship was often reported in the media until the couple separated in 2001. Khan started dating actress Katrina Kaif. After years of speculations, Kaif admitted in an interview in 2011 that she had been in a serious relationship with Khan for several years, but it ended in 2010. Sangeeta Bijlani and Somy Ali were also in serious relationships with Khan.Since 2012, Khan is in a relationship with Romanian actress Iulia Vântur.In August 2011, Khan admitted that he suffers from trigeminal neuralgia, a facial nerve disorder commonly known as the \"suicide disease\". The disorder occurs due to the inflammation of trigeminal nerve in the face. In an interview, he said that he has been quietly suffering from it for the past seven years, but now the pain has become unbearable. He said that it has even affected his voice, making it much harsher.Khan identifies as both Muslim and Hindu, commenting that, \"I\\'m Hindu and Muslim both. I\\'m Bharatiya (an Indian)\". He explained, \"My father is Muslim and my mother is Hindu\".\\n\\n\\n== In the media ==\\nIn 2004 Khan was ranked as the 7th Best looking man in the world by People Magazine of the USA. In 2008 his lifelike wax statue was installed in London\\'s Madame Tussauds Museum; likewise, in 2012 another wax statue of him was installed in Madame Tussauds New York Museum. In 2010 People Magazine, India declared him the Sexiest Man Alive. In 2011, 2012 and 2013 he was declared the Times of India\\'s Most Desirable Man in 2nd, 1st and 3rd place respectively. In August 2013 he was declared India\\'s Most Searched Celebrity Online. Khan topped the Forbes India charts for 2014, in terms of both fame and revenues. According to the Forbes 2015 list \\'Celebrity 100 : The World\\'s Top-Paid Entertainers 2015\\', Khan was the highest ranked Indian in the 71st rank with earnings of $33.5 million.Khan was ranked seventh in Forbes\\'s first global list of highest-paid actors in the world, with earnings of US$33.5 million, which placed him higher than such Hollywood actors as Johnny Depp, Brad Pitt, Leonardo DiCaprio and Dwayne The Rock Johnson. In 2015, he was ranked ahead of US President Barack Obama in the list of The Most Admired Personalities of India. In September 2015, the International Business Times declared him \"The Most Attractive Personality\" in India. He also became the only actor to collect over ₹5 billion (US$77.94 million) domestic net in a single year in India. Khan was ranked the second \"Most Googled Indian of 2015\" and first among Bollywood actors. On 24 April 2016 the Indian Olympic Association appointed the actor as the Indian Olympic contingent\\'s goodwill ambassador for the 2016 Summer Olympics. In August 2017, he was identified as the ninth highest-paid actor in the world, and the first place highest-paid in India according to Forbes India.\\n\\n\\n== Controversies ==\\n\\n\\n=== Hit-and-run case ===\\nOn 28 September 2002, Khan was arrested for rash and negligent driving after his car ran into a bakery in Mumbai; one person who was sleeping on the pavement outside the bakery died and three others were injured in the accident. Charges of culpable homicide were laid against him, but later dropped. On 24 July 2013, he was formally charged with culpable homicide in the case, to which he pleaded not guilty.On 6 May 2015, Khan was found guilty of all charges in the case. The Bombay Sessions Court concluded that Khan was driving the car under the influence of alcohol, causing the death of one and serious injury to four homeless persons. An RTO officer confirmed that Khan did not have a driving license until 2004. Sessions Judge DW Deshpande convicted the actor for culpable homicide not amounting to murder and sentenced him to five years in prison. Later in the same day, Khan, being represented by Senior Counsel Amit Desai was granted bail by the Bombay High Court till 8 May 2015, on which the court suspended his prison sentence until the final appeal hearing in July. His driver Ashok Singh, who had given the testimony that it was himself who was driving the car at the time of accident, was charged with perjury for misguiding the Court with false testimony and was arrested. The prime witness, police constable Ravindra Patil went missing multiple times and eventually died in a hospital due to tuberculosis. In December 2015, Khan was acquitted of all charges from this case due to lack of evidence. The Supreme Court on Tuesday 5 July 2016 admitted a plea by the Maharashtra government that challenged the acquittal of Salman Khan in this hit-and-run case by the Bombay High Court. The court refused to fast-track the case.\\n\\n\\n=== Relationship with Aishwarya Rai ===\\nHis relationship with actress Aishwarya Rai was a well publicised topic in the Indian media. After their break-up in March 2002, Rai accused him of harassing her. She claimed that Khan had not been able to come to terms with their break-up and was hounding her; her parents lodged a complaint against him. In 2005, news outlets released what was said to be an illicit copy of a mobile phone call recorded in 2001 by the Mumbai police. It appeared to be a call in which he threatened Rai, in an effort to force her to appear at social events held by Mumbai crime figures. The call featured boasts of connections to organised crime and derogatory comments about other actors. However, the alleged tape was tested in the government\\'s Forensic lab in Chandigarh, which concluded that it was fake.\\n\\n\\n=== Blackbuck hunting and Arms Act violations cases ===\\nThe case involves the alleged killing of a deer when Khan and his co-stars – Saif Ali Khan, Sonali Bendre, Neelam and Tabu – were filming the movie Hum Saath-Saath Hain in the forests near Jodhpur in 1998. In 2007, Salman spent a week in Jodhpur jail before the court granted him bail. In addition to the accusations of poaching of endangered antelopes under the Wildlife (Protection) Act, a case under sections 3/25 and 3/27 of the Arms Act was filed against Khan for allegedly keeping and using firearms with an expired licence.On 17 February 2006, Khan was sentenced to one year in prison for hunting Chinkara, an endangered species. The sentence was stayed by a higher court on appeal.On 10 April 2006, Khan was handed a five-year jail term and remanded to Jodhpur jail until 13 April when he was granted bail. On 24 July 2012, Rajasthan High Court finalised charges against Khan and his other colleagues in the endangered blackbuck killing case, paving way for the start of the trial. On 9 July 2014, the Supreme Court issued a notice to Khan on Rajasthan government\\'s plea challenging the High Court order suspending his conviction. Khan was acquitted in the blackbuck and chinkara poaching cases by the Rajasthan High Court on 24 July 2016.On 18 October 2016 the Rajasthan Government decided to approach the Supreme Court to challenge Khan\\'s acquittal in two related cases.On 18 January 2017 Khan was acquitted by a Jodhpur court in an Arms Act case linked to the killing of a blackbuck in Rajasthan. Khan pleaded \"not guilty\" to charges of violating the law by keeping unlicensed weapons and using them. Acquitting the actor, the court said that the prosecution failed to submit enough evidence against him.On 5 April 2018, Jodhpur court convicted Khan in the blackbuck poaching case and sentenced him to five years imprisonment while acquitting Saif Ali Khan, Sonali Bendre, Neelam, and Tabu.Khan was released on bail on 7 April 2018, pending appeal.\\n\\n\\n=== Remarks about 26/11 attacks ===\\nIn September 2010, Khan was reported to have claimed during an interview on a Pakistani channel that the 26/11 attacks got a lot of attention because the \"elite\" were targeted. During the interview the actor had said: \"It was the elite that was targeted this time. Five star hotels and stuff. So they panicked. Then they got up and spoke about it. My question is \"why not before?\" Attacks have happened in trains and small towns too, but no one talked about it so much.\" Khan also said that Pakistan was not to be blamed for it, and that the Indian security had failed. Khan\\'s comments had drawn strong reactions from Deputy Chief Minister of Maharashtra Chagan Bhujbal, Shiv Sena, BJP and other political parties. The comments were also condemned by Ujwal Nikam, Special Prosecutor in the 26/11 trial. Khan later apologised for his comments.\\n\\n\\n=== Tweets on Yakub Memon ===\\nOn 25 July 2015, Khan made a number of tweets from his Twitter account in support of the 1993 Bombay bombings accused Yakub Memon. Memon was scheduled to be executed, before which Khan made his tweets. Khan said that Yakub\\'s brother, Tiger Memon should be hanged instead. He also asked the Prime Minister of Pakistan, Nawaz Sharif to confirm \"whether the mob boss is in his country.\" The tweets sparked protests outside his house where police had to be deployed and was criticised in the social media and by his father, Salim Khan. Following these incidents, Khan withdrew his tweets and apologised.\\n\\n\\n== Accolades ==\\n\\nKhan won numerous awards including two National Film Awards and two Filmfare Awards.\\n\\n\\n== Discography ==\\nKhan has sung the following Hindi songs for Bollywood films:\\n\\n\\n== See also ==\\n100 Crore Club\\nKhans of Bollywood\\nList of Bollywood actors\\nList of Indian film actors\\n\\n\\n== References ==\\n\\n\\n== Bibliography ==\\n\\n\\n== External links ==\\nSalman Khan at IMDb \\nSalman Khan on Facebook\\nSalman Khan at Bollywood Hungama \\nSalman Khan at Rotten Tomatoes'"
      ]
     },
     "metadata": {},
     "output_type": "display_data"
    }
   ],
   "source": [
    "# Wikipedia Page Content\n",
    "\n",
    "display(page_content)"
   ]
  },
  {
   "cell_type": "markdown",
   "id": "55b71d66-7b5f-436d-9c3a-5f502d1e137a",
   "metadata": {},
   "source": [
    "### Stuff\n",
    "The stuff documents chain (\"stuff\" as in \"to stuff\" or \"to fill\") is the most straightforward of the document chains. It takes a list of documents, inserts them all into a prompt and passes that prompt to an LLM."
   ]
  },
  {
   "cell_type": "code",
   "execution_count": 174,
   "id": "c73e828f-4a2d-4d9a-9a54-4ed3f2b2c3ab",
   "metadata": {},
   "outputs": [
    {
     "name": "stderr",
     "output_type": "stream",
     "text": [
      "Created a chunk of size 4089, which is longer than the specified 4000\n",
      "Created a chunk of size 6339, which is longer than the specified 4000\n"
     ]
    },
    {
     "name": "stdout",
     "output_type": "stream",
     "text": [
      "Abdul Rashid Salim Salman Khan, known as Salman Khan, is an Indian actor, film producer, writer, and\n",
      "television personality. He has received numerous awards and is considered one of the most\n",
      "commercially successful actors in Indian cinema. Khan has starred in several high-grossing films and\n",
      "is known for his roles in action and drama movies. He is also involved in philanthropy through his\n",
      "charity, Being Human Foundation. Khan has been involved in various controversies and legal troubles,\n",
      "including a hit-and-run case and poaching cases. Despite these controversies, he remains a popular\n",
      "and influential figure in the Indian entertainment industry.\n"
     ]
    }
   ],
   "source": [
    "llm = ChatOpenAI(temperature=0, model_name=\"gpt-3.5-turbo-16k\")\n",
    "chain = load_summarize_chain(llm, chain_type=\"stuff\")\n",
    "\n",
    "text_splitter = CharacterTextSplitter()\n",
    "docs = text_splitter.create_documents([page_content])\n",
    "\n",
    "output_summary = chain.run(docs)\n",
    "wrapped_text = textwrap.fill(output_summary,\n",
    "                             width=100,\n",
    "                             break_long_words=False,\n",
    "                             replace_whitespace=False)\n",
    "print(wrapped_text)"
   ]
  },
  {
   "cell_type": "markdown",
   "id": "dbaa859a-5a33-49ff-87b8-562a518efa23",
   "metadata": {},
   "source": [
    "### Map-Reduce\n",
    "If you have multiple pages you'd like to summarize, you'll likely run into a token limit. Token limits won't always be a problem, but it is good to know how to handle them if you run into the issue.\r\n",
    "\r\n",
    "The chain type \"Map Reduce\" is a method that helps with this. You first generate a summary of smaller chunks (that fit within the token limit) and then you get a summary of the sumries.es"
   ]
  },
  {
   "cell_type": "code",
   "execution_count": 175,
   "id": "27134968-a09f-4a94-8656-ea3079c51ee0",
   "metadata": {},
   "outputs": [],
   "source": [
    "from langchain.text_splitter import RecursiveCharacterTextSplitter"
   ]
  },
  {
   "cell_type": "code",
   "execution_count": 176,
   "id": "2afc655e-ff9a-4600-b1d9-142408084117",
   "metadata": {},
   "outputs": [
    {
     "data": {
      "text/plain": [
       "7582"
      ]
     },
     "execution_count": 176,
     "metadata": {},
     "output_type": "execute_result"
    }
   ],
   "source": [
    "llm.get_num_tokens(page_content)"
   ]
  },
  {
   "cell_type": "code",
   "execution_count": 177,
   "id": "506a9e77-e030-4a12-ad02-325eb415ea04",
   "metadata": {},
   "outputs": [
    {
     "name": "stdout",
     "output_type": "stream",
     "text": [
      "Now we have 2 documents and the first one has 3988 tokens\n"
     ]
    }
   ],
   "source": [
    "# splitting the documents into smaller chunks\n",
    "text_splitter = RecursiveCharacterTextSplitter(separators=[\"\\n\\n\", \"\\n\"], chunk_size=17000, chunk_overlap=1000)\n",
    "\n",
    "# creating a document to pass it to llm\n",
    "docs = text_splitter.create_documents([page_content])\n",
    "\n",
    "num_docs = len(docs)\n",
    "\n",
    "num_tokens_first_doc = llm.get_num_tokens(docs[0].page_content)\n",
    "\n",
    "print (f\"Now we have {num_docs} documents and the first one has {num_tokens_first_doc} tokens\")"
   ]
  },
  {
   "cell_type": "code",
   "execution_count": 178,
   "id": "0a3b79a3-2f49-4deb-9886-e95b954edb55",
   "metadata": {},
   "outputs": [],
   "source": [
    "summary_chain = load_summarize_chain(llm=llm, chain_type='map_reduce',\n",
    "#                                      verbose=True # Set verbose=True if you want to see the prompts being used\n",
    "                                    )"
   ]
  },
  {
   "cell_type": "code",
   "execution_count": 179,
   "id": "8c94d46b-d5b0-44c5-84ec-3f7e3fc4b0ba",
   "metadata": {},
   "outputs": [],
   "source": [
    "output = summary_chain.run(docs)"
   ]
  },
  {
   "cell_type": "markdown",
   "id": "770428c1-f05d-4696-bf5f-6ab39825ce74",
   "metadata": {},
   "source": [
    "### Summary- GPT"
   ]
  },
  {
   "cell_type": "code",
   "execution_count": 180,
   "id": "f8b8f445-eca6-475e-b30a-3ab282e49fa9",
   "metadata": {},
   "outputs": [
    {
     "name": "stdout",
     "output_type": "stream",
     "text": [
      "Abdul Rashid Salim Salman Khan is a highly successful Indian actor, film producer, writer, and television personality. He is known for his work in Hindi films and has received numerous awards. Khan is considered one of the most commercially successful actors in Indian cinema and has been listed as one of the highest-paid celebrities in the world. He gained fame in the 1990s and achieved even greater stardom in the 2010s. Khan is also a television presenter and promotes humanitarian causes through his charity, Being Human Foundation. However, he has faced controversy and legal troubles throughout his career.\n"
     ]
    }
   ],
   "source": [
    "print(output)"
   ]
  },
  {
   "cell_type": "markdown",
   "id": "b5505481-ef87-4b8a-9c05-753ba6d70911",
   "metadata": {},
   "source": [
    "### To get the summary in bullet points"
   ]
  },
  {
   "cell_type": "code",
   "execution_count": 181,
   "id": "d9e417e3-3a3b-4d7f-9d93-42b8f5b28ece",
   "metadata": {},
   "outputs": [],
   "source": [
    "map_prompt = \"\"\"\n",
    "Write a concise summary of the following:\n",
    "\"{text}\"\n",
    "CONCISE SUMMARY:\n",
    "\"\"\"\n",
    "map_prompt_template = PromptTemplate(template=map_prompt, input_variables=[\"text\"])"
   ]
  },
  {
   "cell_type": "code",
   "execution_count": 182,
   "id": "caa26ae2-dad2-4f67-ac82-de84214ba715",
   "metadata": {},
   "outputs": [],
   "source": [
    "combine_prompt = \"\"\"\n",
    "Write a concise summary of the following text delimited by triple backquotes.\n",
    "Return your response in bullet points which covers the key points of the text.\n",
    "```{text}```\n",
    "BULLET POINT SUMMARY:\n",
    "\"\"\"\n",
    "combine_prompt_template = PromptTemplate(template=combine_prompt, input_variables=[\"text\"])"
   ]
  },
  {
   "cell_type": "code",
   "execution_count": 183,
   "id": "6a00543f-c4e0-4c18-a790-7ca53b1bc897",
   "metadata": {},
   "outputs": [],
   "source": [
    "summary_chain = load_summarize_chain(llm=llm,\n",
    "                                     chain_type='map_reduce',\n",
    "                                     map_prompt=map_prompt_template,\n",
    "                                     combine_prompt=combine_prompt_template,\n",
    "#                                      verbose=True\n",
    "                                    )"
   ]
  },
  {
   "cell_type": "code",
   "execution_count": 186,
   "id": "694dfdfc-3325-48aa-98de-97c1f70f862d",
   "metadata": {},
   "outputs": [],
   "source": [
    "output = summary_chain.run(docs)"
   ]
  },
  {
   "cell_type": "markdown",
   "id": "e8cc6823-763e-412a-a03d-817f162753ce",
   "metadata": {},
   "source": [
    "### Summary in bullet points."
   ]
  },
  {
   "cell_type": "code",
   "execution_count": 187,
   "id": "965111e9-a802-4369-8943-94cc3887e01b",
   "metadata": {},
   "outputs": [
    {
     "name": "stdout",
     "output_type": "stream",
     "text": [
      "- Salman Khan is a popular Indian actor, film producer, writer, and television personality\n",
      "- He is known for his work in Hindi films and has received numerous awards\n",
      "- Khan has starred in several top-grossing films, including Wanted, Dabangg, Bajrangi Bhaijaan, and Sultan\n",
      "- He is also a television presenter and has hosted successful shows like \"10 Ka Dum\" and \"Bigg Boss\"\n",
      "- Khan promotes humanitarian causes through his charity, Being Human Foundation\n",
      "- He has been involved in various brand endorsements, promoting products such as Thums Up, Pepsi, and Suzuki motorcycles\n",
      "- Khan's personal life has been marred by controversy and legal troubles, including convictions for a negligent driving case and a blackbuck poaching case\n",
      "- He has won numerous awards for his acting and has a successful career in Bollywood.\n"
     ]
    }
   ],
   "source": [
    "print(output)"
   ]
  },
  {
   "cell_type": "markdown",
   "id": "25c2ea76-f00b-447a-bd63-9081ada29732",
   "metadata": {},
   "source": [
    "# Summary"
   ]
  },
  {
   "cell_type": "markdown",
   "id": "bd34f5e7-243f-4ae2-a68d-226a3359c8c8",
   "metadata": {},
   "source": [
    "### There are several methods for text summarization like abstractive, extractive approaches. The choice of a text summarization technique depends on the specific requirements of task."
   ]
  },
  {
   "cell_type": "markdown",
   "id": "7d19cbdd-2de1-495a-aa97-8fc4b0e39eb7",
   "metadata": {},
   "source": [
    "**BART is a good choice if you need both extractive and abstractive summarization capabilities, and if context and coherence are critical. It's suitable for tasks where maintaining context and readability is essential.**"
   ]
  },
  {
   "cell_type": "markdown",
   "id": "ff241132-a304-4f0b-a05b-e6c0a808aac7",
   "metadata": {},
   "source": [
    "**GPT is a versatile choice if you have access to a large pretrained model like GPT-3 or GPT-4. It can generate creative and abstractive summaries but may require careful fine-tuning for your specific task.**"
   ]
  },
  {
   "cell_type": "markdown",
   "id": "63f1c1d3-68a3-4d7f-8390-45016db18939",
   "metadata": {},
   "source": [
    " "
   ]
  },
  {
   "cell_type": "markdown",
   "id": "44da2829-701a-4f1f-8d8b-96e5b87b4d9b",
   "metadata": {},
   "source": [
    "# Thank you!"
   ]
  }
 ],
 "metadata": {
  "kernelspec": {
   "display_name": "Python 3 (ipykernel)",
   "language": "python",
   "name": "python3"
  },
  "language_info": {
   "codemirror_mode": {
    "name": "ipython",
    "version": 3
   },
   "file_extension": ".py",
   "mimetype": "text/x-python",
   "name": "python",
   "nbconvert_exporter": "python",
   "pygments_lexer": "ipython3",
   "version": "3.9.5"
  }
 },
 "nbformat": 4,
 "nbformat_minor": 5
}
